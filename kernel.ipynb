{
  "cells": [
    {
      "metadata": {
        "_uuid": "8f2839f25d086af736a60e9eeb907d3b93b6e0e5",
        "_cell_guid": "b1076dfc-b9ad-4769-8c92-a6c4dae69d19",
        "trusted": true
      },
      "cell_type": "code",
      "source": "# This Python 3 environment comes with many helpful analytics libraries installed\n# It is defined by the kaggle/python docker image: https://github.com/kaggle/docker-python\n# For example, here's several helpful packages to load in \n\nimport numpy as np # linear algebra\nimport pandas as pd # data processing, CSV file I/O (e.g. pd.read_csv)\n\n# Input data files are available in the \"../input/\" directory.\n# For example, running this (by clicking run or pressing Shift+Enter) will list the files in the input directory\n\nimport os\nprint(os.listdir(\"../input\"))\n\n# Any results you write to the current directory are saved as output.",
      "execution_count": null,
      "outputs": []
    },
    {
      "metadata": {
        "_cell_guid": "79c7e3d0-c299-4dcb-8224-4455121ee9b0",
        "_uuid": "d629ff2d2480ee46fbb7e2d37f6b5fab8052498a",
        "trusted": true,
        "scrolled": true
      },
      "cell_type": "code",
      "source": "bc_history = pd.read_csv('../input/bitstampUSD_1-min_data_2012-01-01_to_2019-03-13.csv')\nbc_history_nonan = bc_history.dropna(thresh=2)",
      "execution_count": 15,
      "outputs": []
    },
    {
      "metadata": {
        "trusted": true,
        "_uuid": "4bdd0823ed2e7b11d66488c86d946becdb92db65"
      },
      "cell_type": "code",
      "source": "bc_history.head()",
      "execution_count": 17,
      "outputs": [
        {
          "output_type": "execute_result",
          "execution_count": 17,
          "data": {
            "text/plain": "    Timestamp  Open       ...        Volume_(Currency)  Weighted_Price\n0  1325317920  4.39       ...                      2.0            4.39\n1  1325317980   NaN       ...                      NaN             NaN\n2  1325318040   NaN       ...                      NaN             NaN\n3  1325318100   NaN       ...                      NaN             NaN\n4  1325318160   NaN       ...                      NaN             NaN\n\n[5 rows x 8 columns]",
            "text/html": "<div>\n<style scoped>\n    .dataframe tbody tr th:only-of-type {\n        vertical-align: middle;\n    }\n\n    .dataframe tbody tr th {\n        vertical-align: top;\n    }\n\n    .dataframe thead th {\n        text-align: right;\n    }\n</style>\n<table border=\"1\" class=\"dataframe\">\n  <thead>\n    <tr style=\"text-align: right;\">\n      <th></th>\n      <th>Timestamp</th>\n      <th>Open</th>\n      <th>High</th>\n      <th>Low</th>\n      <th>Close</th>\n      <th>Volume_(BTC)</th>\n      <th>Volume_(Currency)</th>\n      <th>Weighted_Price</th>\n    </tr>\n  </thead>\n  <tbody>\n    <tr>\n      <th>0</th>\n      <td>1325317920</td>\n      <td>4.39</td>\n      <td>4.39</td>\n      <td>4.39</td>\n      <td>4.39</td>\n      <td>0.455581</td>\n      <td>2.0</td>\n      <td>4.39</td>\n    </tr>\n    <tr>\n      <th>1</th>\n      <td>1325317980</td>\n      <td>NaN</td>\n      <td>NaN</td>\n      <td>NaN</td>\n      <td>NaN</td>\n      <td>NaN</td>\n      <td>NaN</td>\n      <td>NaN</td>\n    </tr>\n    <tr>\n      <th>2</th>\n      <td>1325318040</td>\n      <td>NaN</td>\n      <td>NaN</td>\n      <td>NaN</td>\n      <td>NaN</td>\n      <td>NaN</td>\n      <td>NaN</td>\n      <td>NaN</td>\n    </tr>\n    <tr>\n      <th>3</th>\n      <td>1325318100</td>\n      <td>NaN</td>\n      <td>NaN</td>\n      <td>NaN</td>\n      <td>NaN</td>\n      <td>NaN</td>\n      <td>NaN</td>\n      <td>NaN</td>\n    </tr>\n    <tr>\n      <th>4</th>\n      <td>1325318160</td>\n      <td>NaN</td>\n      <td>NaN</td>\n      <td>NaN</td>\n      <td>NaN</td>\n      <td>NaN</td>\n      <td>NaN</td>\n      <td>NaN</td>\n    </tr>\n  </tbody>\n</table>\n</div>"
          },
          "metadata": {}
        }
      ]
    },
    {
      "metadata": {
        "trusted": true,
        "_uuid": "7bd4d71bc242accee16827fe6a26df5ae6616dde"
      },
      "cell_type": "code",
      "source": "bc_history_nonan.head()",
      "execution_count": 16,
      "outputs": [
        {
          "output_type": "execute_result",
          "execution_count": 16,
          "data": {
            "text/plain": "       Timestamp  Open       ...        Volume_(Currency)  Weighted_Price\n0     1325317920  4.39       ...                 2.000000        4.390000\n478   1325346600  4.39       ...               210.720000        4.390000\n547   1325350740  4.50       ...               171.380338        4.526411\n548   1325350800  4.58       ...                41.220000        4.580000\n1224  1325391360  4.58       ...                 6.879160        4.580000\n\n[5 rows x 8 columns]",
            "text/html": "<div>\n<style scoped>\n    .dataframe tbody tr th:only-of-type {\n        vertical-align: middle;\n    }\n\n    .dataframe tbody tr th {\n        vertical-align: top;\n    }\n\n    .dataframe thead th {\n        text-align: right;\n    }\n</style>\n<table border=\"1\" class=\"dataframe\">\n  <thead>\n    <tr style=\"text-align: right;\">\n      <th></th>\n      <th>Timestamp</th>\n      <th>Open</th>\n      <th>High</th>\n      <th>Low</th>\n      <th>Close</th>\n      <th>Volume_(BTC)</th>\n      <th>Volume_(Currency)</th>\n      <th>Weighted_Price</th>\n    </tr>\n  </thead>\n  <tbody>\n    <tr>\n      <th>0</th>\n      <td>1325317920</td>\n      <td>4.39</td>\n      <td>4.39</td>\n      <td>4.39</td>\n      <td>4.39</td>\n      <td>0.455581</td>\n      <td>2.000000</td>\n      <td>4.390000</td>\n    </tr>\n    <tr>\n      <th>478</th>\n      <td>1325346600</td>\n      <td>4.39</td>\n      <td>4.39</td>\n      <td>4.39</td>\n      <td>4.39</td>\n      <td>48.000000</td>\n      <td>210.720000</td>\n      <td>4.390000</td>\n    </tr>\n    <tr>\n      <th>547</th>\n      <td>1325350740</td>\n      <td>4.50</td>\n      <td>4.57</td>\n      <td>4.50</td>\n      <td>4.57</td>\n      <td>37.862297</td>\n      <td>171.380338</td>\n      <td>4.526411</td>\n    </tr>\n    <tr>\n      <th>548</th>\n      <td>1325350800</td>\n      <td>4.58</td>\n      <td>4.58</td>\n      <td>4.58</td>\n      <td>4.58</td>\n      <td>9.000000</td>\n      <td>41.220000</td>\n      <td>4.580000</td>\n    </tr>\n    <tr>\n      <th>1224</th>\n      <td>1325391360</td>\n      <td>4.58</td>\n      <td>4.58</td>\n      <td>4.58</td>\n      <td>4.58</td>\n      <td>1.502000</td>\n      <td>6.879160</td>\n      <td>4.580000</td>\n    </tr>\n  </tbody>\n</table>\n</div>"
          },
          "metadata": {}
        }
      ]
    },
    {
      "metadata": {
        "_uuid": "d39409d5e09e7e79ffaeba56029a819df295a196"
      },
      "cell_type": "markdown",
      "source": "## Data Preprocessing\n\nThere are two possibilities for missing data in our dataset (as explained in the dataset description):\n1. When at a given timestamp there is no trade or activity the field will be filled with NaN value\n2. When there are some technical error (such as the API is down) then the timestamp is missing (the dataset are recorded on each minutes"
    },
    {
      "metadata": {
        "_uuid": "3d447846727affca0ec4a079d8fd33cdc0442878"
      },
      "cell_type": "markdown",
      "source": "### Selecting data\n\nIn here, we're going to select dataset with minimal missing timestamp jump"
    },
    {
      "metadata": {
        "trusted": true,
        "_uuid": "9837cbb4710b749c7beb2f854ef855dabd88ea84"
      },
      "cell_type": "code",
      "source": "bc_history_nonan['Delta_Timestamp'] = bc_history_nonan['Timestamp'] - bc_history_nonan['Timestamp'].shift(1)\nbc_history_nonan['Delta_Timestamp']",
      "execution_count": 13,
      "outputs": [
        {
          "output_type": "execute_result",
          "execution_count": 13,
          "data": {
            "text/plain": "3773153    180.0\n3773154     60.0\n3773155     60.0\n3773156     60.0\n3773157     60.0\n3773158     60.0\n3773159     60.0\n3773160     60.0\n3773163    180.0\n3773164     60.0\n3773165     60.0\n3773170    300.0\n3773172    120.0\n3773173     60.0\n3773174     60.0\n3773175     60.0\n3773176     60.0\n3773177     60.0\n3773178     60.0\n3773179     60.0\n3773180     60.0\n3773181     60.0\n3773182     60.0\n3773183     60.0\n3773184     60.0\n3773185     60.0\n3773186     60.0\n3773187     60.0\n3773188     60.0\n3773189     60.0\n           ...  \n3778779     60.0\n3778780     60.0\n3778781     60.0\n3778782     60.0\n3778783     60.0\n3778786    180.0\n3778787     60.0\n3778788     60.0\n3778789     60.0\n3778790     60.0\n3778791     60.0\n3778792     60.0\n3778793     60.0\n3778794     60.0\n3778795     60.0\n3778796     60.0\n3778797     60.0\n3778799    120.0\n3778800     60.0\n3778801     60.0\n3778802     60.0\n3778804    120.0\n3778806    120.0\n3778807     60.0\n3778809    120.0\n3778810     60.0\n3778811     60.0\n3778814    180.0\n3778815     60.0\n3778816     60.0\nName: Delta_Timestamp, Length: 5000, dtype: float64"
          },
          "metadata": {}
        }
      ]
    },
    {
      "metadata": {
        "trusted": true,
        "_uuid": "8d8a138ba527d1c47840cfaeeac8262b1de32167"
      },
      "cell_type": "code",
      "source": "bc_history_nonan['Delta_Timestamp'].tail(5000)",
      "execution_count": 14,
      "outputs": [
        {
          "output_type": "execute_result",
          "execution_count": 14,
          "data": {
            "text/plain": "3773153    180.0\n3773154     60.0\n3773155     60.0\n3773156     60.0\n3773157     60.0\n3773158     60.0\n3773159     60.0\n3773160     60.0\n3773163    180.0\n3773164     60.0\n3773165     60.0\n3773170    300.0\n3773172    120.0\n3773173     60.0\n3773174     60.0\n3773175     60.0\n3773176     60.0\n3773177     60.0\n3773178     60.0\n3773179     60.0\n3773180     60.0\n3773181     60.0\n3773182     60.0\n3773183     60.0\n3773184     60.0\n3773185     60.0\n3773186     60.0\n3773187     60.0\n3773188     60.0\n3773189     60.0\n           ...  \n3778779     60.0\n3778780     60.0\n3778781     60.0\n3778782     60.0\n3778783     60.0\n3778786    180.0\n3778787     60.0\n3778788     60.0\n3778789     60.0\n3778790     60.0\n3778791     60.0\n3778792     60.0\n3778793     60.0\n3778794     60.0\n3778795     60.0\n3778796     60.0\n3778797     60.0\n3778799    120.0\n3778800     60.0\n3778801     60.0\n3778802     60.0\n3778804    120.0\n3778806    120.0\n3778807     60.0\n3778809    120.0\n3778810     60.0\n3778811     60.0\n3778814    180.0\n3778815     60.0\n3778816     60.0\nName: Delta_Timestamp, Length: 5000, dtype: float64"
          },
          "metadata": {}
        }
      ]
    },
    {
      "metadata": {
        "_uuid": "78386da144af27770c16d436deb8c7c2d7caa956"
      },
      "cell_type": "markdown",
      "source": "From the data above, we know 5000 lastest data only missing some empty values (this including timestamp jump and NaN values), so we will use it for processing."
    },
    {
      "metadata": {
        "trusted": true,
        "_uuid": "6f95805ec4a09105e5729a2f76d50c3f1b514b2c"
      },
      "cell_type": "code",
      "source": "bc_history = bc_history.tail(5000)\nbc_history.head()",
      "execution_count": 20,
      "outputs": [
        {
          "output_type": "execute_result",
          "execution_count": 20,
          "data": {
            "text/plain": "          Timestamp     Open       ...        Volume_(Currency)  Weighted_Price\n3773817  1552135260  3902.62       ...              1883.936114     3903.105223\n3773818  1552135320  3903.11       ...             18452.636311     3903.110000\n3773819  1552135380  3903.11       ...              4488.615500     3903.143913\n3773820  1552135440  3903.11       ...             23395.765313     3903.329266\n3773821  1552135500  3901.65       ...             34331.851306     3901.924206\n\n[5 rows x 8 columns]",
            "text/html": "<div>\n<style scoped>\n    .dataframe tbody tr th:only-of-type {\n        vertical-align: middle;\n    }\n\n    .dataframe tbody tr th {\n        vertical-align: top;\n    }\n\n    .dataframe thead th {\n        text-align: right;\n    }\n</style>\n<table border=\"1\" class=\"dataframe\">\n  <thead>\n    <tr style=\"text-align: right;\">\n      <th></th>\n      <th>Timestamp</th>\n      <th>Open</th>\n      <th>High</th>\n      <th>Low</th>\n      <th>Close</th>\n      <th>Volume_(BTC)</th>\n      <th>Volume_(Currency)</th>\n      <th>Weighted_Price</th>\n    </tr>\n  </thead>\n  <tbody>\n    <tr>\n      <th>3773817</th>\n      <td>1552135260</td>\n      <td>3902.62</td>\n      <td>3903.11</td>\n      <td>3902.62</td>\n      <td>3903.11</td>\n      <td>0.482676</td>\n      <td>1883.936114</td>\n      <td>3903.105223</td>\n    </tr>\n    <tr>\n      <th>3773818</th>\n      <td>1552135320</td>\n      <td>3903.11</td>\n      <td>3903.11</td>\n      <td>3903.11</td>\n      <td>3903.11</td>\n      <td>4.727675</td>\n      <td>18452.636311</td>\n      <td>3903.110000</td>\n    </tr>\n    <tr>\n      <th>3773819</th>\n      <td>1552135380</td>\n      <td>3903.11</td>\n      <td>3903.37</td>\n      <td>3903.11</td>\n      <td>3903.37</td>\n      <td>1.150000</td>\n      <td>4488.615500</td>\n      <td>3903.143913</td>\n    </tr>\n    <tr>\n      <th>3773820</th>\n      <td>1552135440</td>\n      <td>3903.11</td>\n      <td>3903.46</td>\n      <td>3901.65</td>\n      <td>3901.65</td>\n      <td>5.993798</td>\n      <td>23395.765313</td>\n      <td>3903.329266</td>\n    </tr>\n    <tr>\n      <th>3773821</th>\n      <td>1552135500</td>\n      <td>3901.65</td>\n      <td>3903.25</td>\n      <td>3899.54</td>\n      <td>3902.59</td>\n      <td>8.798698</td>\n      <td>34331.851306</td>\n      <td>3901.924206</td>\n    </tr>\n  </tbody>\n</table>\n</div>"
          },
          "metadata": {}
        }
      ]
    },
    {
      "metadata": {
        "_uuid": "9d105f9891fca55e39cc1cd92204e8165679e86d"
      },
      "cell_type": "markdown",
      "source": "### Missing values replacement"
    },
    {
      "metadata": {
        "_uuid": "9a72a0164a09443ac6d71030e2f7a0dd2fe50ab8"
      },
      "cell_type": "markdown",
      "source": "Replace NaN field with previous data for continuous timeseries data"
    },
    {
      "metadata": {
        "trusted": true,
        "_uuid": "f3579d111a920ff805f05bf1aef411f2f02de01b"
      },
      "cell_type": "code",
      "source": "bc_history['Open'].fillna(method='ffill', inplace=True)\nbc_history['High'].fillna(method='ffill', inplace=True)\nbc_history['Low'].fillna(method='ffill', inplace=True)\nbc_history['Close'].fillna(method='ffill', inplace=True)",
      "execution_count": null,
      "outputs": []
    },
    {
      "metadata": {
        "_uuid": "99e540c74780e0d4b09c790e4030c8cc12d95251"
      },
      "cell_type": "markdown",
      "source": "Replace NaN field with zeros for single event data"
    },
    {
      "metadata": {
        "trusted": true,
        "_uuid": "225600dbe5390aa17f47e4b5ca3395fb88995dc6"
      },
      "cell_type": "code",
      "source": "bc_history['Volume_(BTC)'].fillna(value=0, inplace=True)\nbc_history['Volume_(Currency)'].fillna(value=0, inplace=True)\nbc_history['Weighted_Price'].fillna(value=0, inplace=True)",
      "execution_count": null,
      "outputs": []
    }
  ],
  "metadata": {
    "kernelspec": {
      "display_name": "Python 3",
      "language": "python",
      "name": "python3"
    },
    "language_info": {
      "name": "python",
      "version": "3.6.6",
      "mimetype": "text/x-python",
      "codemirror_mode": {
        "name": "ipython",
        "version": 3
      },
      "pygments_lexer": "ipython3",
      "nbconvert_exporter": "python",
      "file_extension": ".py"
    }
  },
  "nbformat": 4,
  "nbformat_minor": 1
}